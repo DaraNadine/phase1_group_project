{
 "cells": [
  {
   "cell_type": "code",
   "execution_count": null,
   "metadata": {},
   "outputs": [],
   "source": []
  },
  {
   "cell_type": "markdown",
   "metadata": {},
   "source": [
    "EDA NOTEBOOK"
   ]
  },
  {
   "cell_type": "markdown",
   "metadata": {},
   "source": [
    "https://github.com/learn-co-curriculum/dsc-project-template/blob/example-aab/code/eda_notebook.ipynb"
   ]
  },
  {
   "cell_type": "markdown",
   "metadata": {},
   "source": [
    "https://github.com/stlanier/Flatiron-School-Module-1-Project/blob/master/notebooks/data-manipulations-and-visualizations.ipynb"
   ]
  },
  {
   "cell_type": "markdown",
   "metadata": {},
   "source": [
    "Format - \n",
    "\n",
    "Starting \n",
    "    .info()\n",
    "    .head()\n",
    "Cleaned/merged data\n",
    "    .info()\n",
    "    .head()\n",
    "\n",
    "Business Understanding -\n",
    "\n",
    "First concern: Who are the major competitiors in the movie studio business?\n",
    "\n",
    "\n",
    "Second concern: Which are the highest grossing movie genres?\n",
    "\n",
    "\n",
    "Third concer: When is the best time of year to release a movie?\n"
   ]
  }
 ],
 "metadata": {
  "language_info": {
   "name": "python"
  },
  "orig_nbformat": 4
 },
 "nbformat": 4,
 "nbformat_minor": 2
}
