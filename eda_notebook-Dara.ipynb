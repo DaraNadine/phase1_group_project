{
 "cells": [
  {
   "cell_type": "code",
   "execution_count": null,
   "metadata": {},
   "outputs": [],
   "source": []
  },
  {
   "cell_type": "markdown",
   "metadata": {},
   "source": [
    "## Final Project Submission\n",
    "\n",
    "Please fill out:\n",
    "* Student name: Dara Estrada\n",
    "* Student pace: Full time\n",
    "* Scheduled project review date/time: Jan 28, 2022\n",
    "* Instructor name: Angelica, Diane\n",
    "* Blog post URL:\n"
   ]
  },
  {
   "cell_type": "code",
   "execution_count": null,
   "metadata": {},
   "outputs": [],
   "source": [
    "import pandas as pd\n",
    "import gzip as gz\n",
    "import matplotlib.pyplot as plt\n",
    "import sqlite3\n",
    "import os\n",
    "import zipfile\n",
    "import seaborn as sns\n",
    "import math\n",
    "import random\n",
    "from sklearn.linear_model import LinearRegression"
   ]
  },
  {
   "cell_type": "code",
   "execution_count": null,
   "metadata": {},
   "outputs": [],
   "source": [
    "# Opened the relevant datasets to be explored in jupyter notebook\n",
    "#if not os.path.exists('zippedData/im.db'):\n",
    "with zipfile.ZipFile('zippedData/im.db.zip') as my_zip:\n",
    "    zipfile.ZipFile.extractall(my_zip,path='zippedData/')\n",
    "with gz.open('zippedData/rt.reviews.tsv.gz') as f:\n",
    "    rt_reviews = pd.read_csv(f,delimiter='\\t',encoding='latin1')\n",
    "with gz.open('zippedData/rt.movie_info.tsv.gz') as f:\n",
    "    rt_movie_info = pd.read_csv(f,delimiter='\\t',encoding='latin1')\n",
    "with gz.open('zippedData/tmdb.movies.csv.gz') as f:\n",
    "    tmdb_movies = pd.read_csv(f)\n",
    "with gz.open('zippedData/tn.movie_budgets.csv.gz') as f:\n",
    "    tn_movie_budgets = pd.read_csv(f)\n",
    "with gz.open('zippedData/bom.movie_gross.csv.gz') as f:\n",
    "    bom_movie_gross = pd.read_csv(f)"
   ]
  },
  {
   "cell_type": "code",
   "execution_count": null,
   "metadata": {},
   "outputs": [],
   "source": [
    "# Connected to and opened the imdb database to utilize the data\n",
    "im_db = sqlite3.connect('zippedData/im.db')\n",
    "imdb_df = pd.read_sql(\"\"\"SELECT * FROM movie_basics\"\"\",im_db)"
   ]
  },
  {
   "cell_type": "code",
   "execution_count": null,
   "metadata": {},
   "outputs": [],
   "source": [
    "# Created a SQL query to pull director name and info from the imdb database\n",
    "director_info = \"\"\"\n",
    "SELECT\n",
    "    m.movie_id,\n",
    "    m.primary_title,\n",
    "    m.genres,\n",
    "    d.person_id,\n",
    "    p.primary_name,\n",
    "    p.death_year\n",
    "    \n",
    "    \n",
    "FROM\n",
    "    movie_basics AS m\n",
    "    JOIN \n",
    "        directors AS d ON m.movie_id = d.movie_id\n",
    "    JOIN\n",
    "        known_for AS kf ON m.movie_id = kf.movie_id\n",
    "    JOIN\n",
    "        persons AS p ON p.person_id = d.person_id\n",
    "GROUP BY\n",
    "    m.movie_id, kf.person_id, p.primary_name\n",
    ";\n",
    "\"\"\"\n",
    "director_info_result = pd.read_sql(director_info, im_db)\n",
    "director_info_result"
   ]
  },
  {
   "cell_type": "code",
   "execution_count": null,
   "metadata": {},
   "outputs": [],
   "source": [
    "tn_movie_budgets['year'] = tn_movie_budgets['release_date'].str[-4:]\n",
    "tn_movie_budgets['month'] = tn_movie_budgets['release_date'].str[:3]\n",
    "tn_movie_budgets['clean_budget'] = tn_movie_budgets['production_budget'].str.replace('$','')\n",
    "tn_movie_budgets['clean_budget'] = tn_movie_budgets['clean_budget'].str.replace(',','').astype(int)\n",
    "tn_movie_budgets['clean_domestic'] = tn_movie_budgets['domestic_gross'].str.replace('$','')\n",
    "tn_movie_budgets['clean_domestic'] = tn_movie_budgets['clean_domestic'].str.replace(',','').astype(int)\n",
    "tn_movie_budgets['clean_worldwide'] = tn_movie_budgets['worldwide_gross'].str.replace('$','')\n",
    "tn_movie_budgets['clean_worldwide'] = tn_movie_budgets['clean_worldwide'].str.replace(',','').astype('int64')\n",
    "tn_movie_budgets['clean_foreign'] = tn_movie_budgets['clean_worldwide'] - tn_movie_budgets['clean_domestic']\n",
    "tn_movie_budgets.rename({'movie':'title'},axis=1,inplace=True)\n",
    "#tn_movie_budgets.info()\n",
    "tn_relevant_cols = ['title','year','month','clean_budget','clean_domestic','clean_foreign','clean_worldwide']\n",
    "tn_relevant = tn_movie_budgets[tn_relevant_cols]\n",
    "profit = tn_relevant['clean_worldwide']- tn_relevant['clean_budget']\n",
    "tn_relevant['profit'] = profit\n",
    "tn_relevant.head()"
   ]
  },
  {
   "cell_type": "code",
   "execution_count": null,
   "metadata": {},
   "outputs": [],
   "source": [
    "def season_category(month):\n",
    "    if month in ['Dec', 'Jan', 'Feb']:\n",
    "        return 'Winter'\n",
    "    elif month in ['Mar', 'Apr', 'May']:\n",
    "        return  'Spring'\n",
    "    elif month in ['Jun', 'Jul', 'Aug']:\n",
    "        return 'Summer'\n",
    "    else:\n",
    "        return 'Autumn'"
   ]
  },
  {
   "cell_type": "code",
   "execution_count": null,
   "metadata": {},
   "outputs": [],
   "source": [
    "print(season_category('Aug'))"
   ]
  },
  {
   "cell_type": "code",
   "execution_count": null,
   "metadata": {},
   "outputs": [],
   "source": [
    "tn_relevant['Seasons'] = tn_relevant['month'].apply(season_category)"
   ]
  },
  {
   "cell_type": "code",
   "execution_count": null,
   "metadata": {},
   "outputs": [],
   "source": [
    "tn_relevant.head()"
   ]
  },
  {
   "cell_type": "code",
   "execution_count": null,
   "metadata": {},
   "outputs": [],
   "source": [
    "from pylab import *\n",
    "from numpy import outer\n",
    "rc('text', usetex=False)\n",
    "a=outer(arange(0,1,0.01),ones(10))\n",
    "figure(figsize=(10,5))\n",
    "subplots_adjust(top=0.8,bottom=0.05,left=0.01,right=0.99)\n",
    "maps=[m for m in cm.datad if not m.endswith(\"_r\")]\n",
    "maps.sort()\n",
    "l=len(maps)+1\n",
    "for i, m in enumerate(maps):\n",
    "     subplot(1,l,i+1)\n",
    "     axis(\"off\")\n",
    "     imshow(a,aspect='auto',cmap=get_cmap(m),origin=\"lower\")\n",
    "     title(m,rotation=90,fontsize=10)\n",
    "savefig(\"colormaps.png\",dpi=100,facecolor='gray')\n"
   ]
  },
  {
   "cell_type": "code",
   "execution_count": null,
   "metadata": {},
   "outputs": [],
   "source": [
    "ax3=tn_relevant.groupby('Seasons')['clean_worldwide'].median().plot(kind='bar', stacked=True, colormap='summer')\n",
    "\n",
    "ax3.set_ylabel('Median Worldwide Gorss (Millions)');\n",
    "ax3.set_yticklabels(ax3.get_yticks()//1000000);\n",
    "ax3.set_title('Median Earning Per Season')\n"
   ]
  },
  {
   "cell_type": "code",
   "execution_count": null,
   "metadata": {},
   "outputs": [],
   "source": [
    "ax3=tn_relevant.groupby('month')['clean_worldwide'].median().plot(kind='bar', stacked=True, colormap='summer')\n",
    "\n",
    "ax3.set_ylabel('Median Worldwide Gorss (Millions)');\n",
    "ax3.set_yticklabels(ax3.get_yticks()//1000000);\n",
    "ax3.set_title('Median Earning Per Season')"
   ]
  },
  {
   "cell_type": "code",
   "execution_count": null,
   "metadata": {},
   "outputs": [],
   "source": [
    "months_in_order = ['Jan','Feb','Mar','Apr','May','Jun','Jul','Aug','Sep','Oct','Nov','Dec']\n",
    "tn_plot_month = tn_relevant.groupby('month').agg(median_earning=('clean_worldwide','median'))\n",
    "tn_plot_month= tn_plot_month.reset_index()\n",
    "sns.set(rc = {'figure.figsize':(15,8)});\n",
    "sns.set_theme(context = 'talk',style='white');\n",
    "ax4 = sns.barplot(x='month',y='median_earning',data=tn_plot_month,order=months_in_order)\n",
    "ax4.set_ylabel('Median Worldwide Gross (Millions)');\n",
    "ax4.set_xlabel(None);\n",
    "ax4.set_title('',fontsize=32);\n",
    "ax4.set_yticklabels(ax4.get_yticks()//1000000);"
   ]
  },
  {
   "cell_type": "code",
   "execution_count": null,
   "metadata": {},
   "outputs": [],
   "source": [
    "colors = [\"#348781\",\"#EE9A4D\",\"#931314\",\"#4863A0\" ]\n",
    "sns.set_palette(sns.color_palette(colors))\n",
    "seasons_in_order = ['Spring','Summer','Autumn','Winter']\n",
    "tn_plot_season = tn_relevant.groupby('Seasons').agg(median_earning=('clean_worldwide','median'))\n",
    "tn_plot_season= tn_plot_season.reset_index()\n",
    "sns.set(rc = {'figure.figsize':(15,8)});\n",
    "sns.set_theme(context = 'talk',style='white');\n",
    "sns.set_palette(sns.color_palette(colors));\n",
    "ax4 = sns.barplot(x='Seasons',y='median_earning',data=tn_plot_season,order=seasons_in_order)\n",
    "ax4.set_ylabel('Median Worldwide Gross (Millions)');\n",
    "ax4.set_xlabel(None);\n",
    "# ax4.set_title('',fontsize=32);\n",
    "ax4.set_yticklabels(ax4.get_yticks()//1000000);"
   ]
  }
 ],
 "metadata": {
  "language_info": {
   "name": "python"
  },
  "orig_nbformat": 4
 },
 "nbformat": 4,
 "nbformat_minor": 2
}
